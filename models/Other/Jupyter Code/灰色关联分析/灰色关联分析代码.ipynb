{
 "cells": [
  {
   "cell_type": "code",
   "execution_count": 37,
   "metadata": {},
   "outputs": [],
   "source": [
    "import numpy as np\n",
    "import pandas as pd\n",
    "\n",
    "np.set_printoptions(suppress=True,precision=3)"
   ]
  },
  {
   "cell_type": "code",
   "execution_count": 39,
   "metadata": {},
   "outputs": [
    {
     "data": {
      "text/plain": "    年龄  性别  脑出血前mRS评分  高血压病史  卒中病史  糖尿病史  房颤史  冠心病史  吸烟史  饮酒史  ...  \\\n0   43   1          0      0     0     0    0     0    0    0  ...   \n1   58   0          0      1     0     0    0     0    0    0  ...   \n2   78   0          0      1     0     0    0     0    0    0  ...   \n3   70   0          2      1     1     0    0     0    0    0  ...   \n4   51   0          0      0     0     0    0     0    0    0  ...   \n..  ..  ..        ...    ...   ...   ...  ...   ...  ...  ...  ...   \n95  93   1          0      0     0     0    0     0    0    0  ...   \n96  83   1          0      1     0     0    0     0    0    0  ...   \n97  82   0          0      1     1     1    1     1    1    0  ...   \n98  53   0          0      1     0     0    0     0    0    0  ...   \n99  80   0          0      0     0     0    0     0    1    1  ...   \n\n    H_NCCT_original_firstorder_Mean  H_NCCT_original_firstorder_Median  \\\n0                        172.025325                         180.997857   \n1                        140.123610                         137.569328   \n2                        132.720361                         133.217856   \n3                        126.563101                         124.293778   \n4                        145.254768                         146.017474   \n..                              ...                                ...   \n95                       142.270395                         142.643719   \n96                       165.308284                         162.653881   \n97                       151.475748                         157.553169   \n98                       127.620238                         115.571195   \n99                       169.011892                         173.615749   \n\n    H_NCCT_original_firstorder_Minimum  H_NCCT_original_firstorder_Range  \\\n0                            86.200064                        161.239687   \n1                            69.446385                        152.848311   \n2                            61.683739                        164.933560   \n3                            59.981668                        230.164456   \n4                            81.014412                        134.699827   \n..                                 ...                               ...   \n95                           78.215613                        146.557579   \n96                           82.822093                        169.854351   \n97                           64.587076                        157.060233   \n98                           71.609664                        193.688206   \n99                           85.007622                        168.434500   \n\n    H_NCCT_original_firstorder_RobustMeanAbsoluteDeviation  \\\n0                                           22.759625        \n1                                           26.758880        \n2                                           19.037080        \n3                                           21.618937        \n4                                           20.821637        \n..                                                ...        \n95                                          22.871665        \n96                                          29.985000        \n97                                          16.909283        \n98                                          22.412772        \n99                                          28.118677        \n\n    H_NCCT_original_firstorder_RootMeanSquared  \\\n0                                   175.551025   \n1                                   145.014063   \n2                                   135.747065   \n3                                   130.690592   \n4                                   148.459109   \n..                                         ...   \n95                                  145.937323   \n96                                  170.381262   \n97                                  154.139448   \n98                                  132.134408   \n99                                  173.580225   \n\n    H_NCCT_original_firstorder_Skewness  \\\n0                             -0.523096   \n1                              0.113439   \n2                              0.019111   \n3                              0.323449   \n4                              0.027286   \n..                                  ...   \n95                             0.008035   \n96                             0.062903   \n97                            -0.589568   \n98                             0.698339   \n99                            -0.200837   \n\n    H_NCCT_original_firstorder_Uniformity  \\\n0                                0.089596   \n1                                0.074774   \n2                                0.098694   \n3                                0.123988   \n4                                0.075332   \n..                                    ...   \n95                               0.080505   \n96                               0.078045   \n97                               0.104148   \n98                               0.124429   \n99                               0.079094   \n\n    H_NCCT_original_firstorder_Variance  target  \n0                           1225.449943       4  \n1                           1394.452289       0  \n2                            812.571273       5  \n3                           1061.812328       4  \n4                            941.159277       3  \n..                                  ...     ...  \n95                          1056.837094       4  \n96                          1702.945541       2  \n97                           814.067313       5  \n98                          1172.576753       3  \n99                          1565.074971       2  \n\n[100 rows x 105 columns]",
      "text/html": "<div>\n<style scoped>\n    .dataframe tbody tr th:only-of-type {\n        vertical-align: middle;\n    }\n\n    .dataframe tbody tr th {\n        vertical-align: top;\n    }\n\n    .dataframe thead th {\n        text-align: right;\n    }\n</style>\n<table border=\"1\" class=\"dataframe\">\n  <thead>\n    <tr style=\"text-align: right;\">\n      <th></th>\n      <th>年龄</th>\n      <th>性别</th>\n      <th>脑出血前mRS评分</th>\n      <th>高血压病史</th>\n      <th>卒中病史</th>\n      <th>糖尿病史</th>\n      <th>房颤史</th>\n      <th>冠心病史</th>\n      <th>吸烟史</th>\n      <th>饮酒史</th>\n      <th>...</th>\n      <th>H_NCCT_original_firstorder_Mean</th>\n      <th>H_NCCT_original_firstorder_Median</th>\n      <th>H_NCCT_original_firstorder_Minimum</th>\n      <th>H_NCCT_original_firstorder_Range</th>\n      <th>H_NCCT_original_firstorder_RobustMeanAbsoluteDeviation</th>\n      <th>H_NCCT_original_firstorder_RootMeanSquared</th>\n      <th>H_NCCT_original_firstorder_Skewness</th>\n      <th>H_NCCT_original_firstorder_Uniformity</th>\n      <th>H_NCCT_original_firstorder_Variance</th>\n      <th>target</th>\n    </tr>\n  </thead>\n  <tbody>\n    <tr>\n      <th>0</th>\n      <td>43</td>\n      <td>1</td>\n      <td>0</td>\n      <td>0</td>\n      <td>0</td>\n      <td>0</td>\n      <td>0</td>\n      <td>0</td>\n      <td>0</td>\n      <td>0</td>\n      <td>...</td>\n      <td>172.025325</td>\n      <td>180.997857</td>\n      <td>86.200064</td>\n      <td>161.239687</td>\n      <td>22.759625</td>\n      <td>175.551025</td>\n      <td>-0.523096</td>\n      <td>0.089596</td>\n      <td>1225.449943</td>\n      <td>4</td>\n    </tr>\n    <tr>\n      <th>1</th>\n      <td>58</td>\n      <td>0</td>\n      <td>0</td>\n      <td>1</td>\n      <td>0</td>\n      <td>0</td>\n      <td>0</td>\n      <td>0</td>\n      <td>0</td>\n      <td>0</td>\n      <td>...</td>\n      <td>140.123610</td>\n      <td>137.569328</td>\n      <td>69.446385</td>\n      <td>152.848311</td>\n      <td>26.758880</td>\n      <td>145.014063</td>\n      <td>0.113439</td>\n      <td>0.074774</td>\n      <td>1394.452289</td>\n      <td>0</td>\n    </tr>\n    <tr>\n      <th>2</th>\n      <td>78</td>\n      <td>0</td>\n      <td>0</td>\n      <td>1</td>\n      <td>0</td>\n      <td>0</td>\n      <td>0</td>\n      <td>0</td>\n      <td>0</td>\n      <td>0</td>\n      <td>...</td>\n      <td>132.720361</td>\n      <td>133.217856</td>\n      <td>61.683739</td>\n      <td>164.933560</td>\n      <td>19.037080</td>\n      <td>135.747065</td>\n      <td>0.019111</td>\n      <td>0.098694</td>\n      <td>812.571273</td>\n      <td>5</td>\n    </tr>\n    <tr>\n      <th>3</th>\n      <td>70</td>\n      <td>0</td>\n      <td>2</td>\n      <td>1</td>\n      <td>1</td>\n      <td>0</td>\n      <td>0</td>\n      <td>0</td>\n      <td>0</td>\n      <td>0</td>\n      <td>...</td>\n      <td>126.563101</td>\n      <td>124.293778</td>\n      <td>59.981668</td>\n      <td>230.164456</td>\n      <td>21.618937</td>\n      <td>130.690592</td>\n      <td>0.323449</td>\n      <td>0.123988</td>\n      <td>1061.812328</td>\n      <td>4</td>\n    </tr>\n    <tr>\n      <th>4</th>\n      <td>51</td>\n      <td>0</td>\n      <td>0</td>\n      <td>0</td>\n      <td>0</td>\n      <td>0</td>\n      <td>0</td>\n      <td>0</td>\n      <td>0</td>\n      <td>0</td>\n      <td>...</td>\n      <td>145.254768</td>\n      <td>146.017474</td>\n      <td>81.014412</td>\n      <td>134.699827</td>\n      <td>20.821637</td>\n      <td>148.459109</td>\n      <td>0.027286</td>\n      <td>0.075332</td>\n      <td>941.159277</td>\n      <td>3</td>\n    </tr>\n    <tr>\n      <th>...</th>\n      <td>...</td>\n      <td>...</td>\n      <td>...</td>\n      <td>...</td>\n      <td>...</td>\n      <td>...</td>\n      <td>...</td>\n      <td>...</td>\n      <td>...</td>\n      <td>...</td>\n      <td>...</td>\n      <td>...</td>\n      <td>...</td>\n      <td>...</td>\n      <td>...</td>\n      <td>...</td>\n      <td>...</td>\n      <td>...</td>\n      <td>...</td>\n      <td>...</td>\n      <td>...</td>\n    </tr>\n    <tr>\n      <th>95</th>\n      <td>93</td>\n      <td>1</td>\n      <td>0</td>\n      <td>0</td>\n      <td>0</td>\n      <td>0</td>\n      <td>0</td>\n      <td>0</td>\n      <td>0</td>\n      <td>0</td>\n      <td>...</td>\n      <td>142.270395</td>\n      <td>142.643719</td>\n      <td>78.215613</td>\n      <td>146.557579</td>\n      <td>22.871665</td>\n      <td>145.937323</td>\n      <td>0.008035</td>\n      <td>0.080505</td>\n      <td>1056.837094</td>\n      <td>4</td>\n    </tr>\n    <tr>\n      <th>96</th>\n      <td>83</td>\n      <td>1</td>\n      <td>0</td>\n      <td>1</td>\n      <td>0</td>\n      <td>0</td>\n      <td>0</td>\n      <td>0</td>\n      <td>0</td>\n      <td>0</td>\n      <td>...</td>\n      <td>165.308284</td>\n      <td>162.653881</td>\n      <td>82.822093</td>\n      <td>169.854351</td>\n      <td>29.985000</td>\n      <td>170.381262</td>\n      <td>0.062903</td>\n      <td>0.078045</td>\n      <td>1702.945541</td>\n      <td>2</td>\n    </tr>\n    <tr>\n      <th>97</th>\n      <td>82</td>\n      <td>0</td>\n      <td>0</td>\n      <td>1</td>\n      <td>1</td>\n      <td>1</td>\n      <td>1</td>\n      <td>1</td>\n      <td>1</td>\n      <td>0</td>\n      <td>...</td>\n      <td>151.475748</td>\n      <td>157.553169</td>\n      <td>64.587076</td>\n      <td>157.060233</td>\n      <td>16.909283</td>\n      <td>154.139448</td>\n      <td>-0.589568</td>\n      <td>0.104148</td>\n      <td>814.067313</td>\n      <td>5</td>\n    </tr>\n    <tr>\n      <th>98</th>\n      <td>53</td>\n      <td>0</td>\n      <td>0</td>\n      <td>1</td>\n      <td>0</td>\n      <td>0</td>\n      <td>0</td>\n      <td>0</td>\n      <td>0</td>\n      <td>0</td>\n      <td>...</td>\n      <td>127.620238</td>\n      <td>115.571195</td>\n      <td>71.609664</td>\n      <td>193.688206</td>\n      <td>22.412772</td>\n      <td>132.134408</td>\n      <td>0.698339</td>\n      <td>0.124429</td>\n      <td>1172.576753</td>\n      <td>3</td>\n    </tr>\n    <tr>\n      <th>99</th>\n      <td>80</td>\n      <td>0</td>\n      <td>0</td>\n      <td>0</td>\n      <td>0</td>\n      <td>0</td>\n      <td>0</td>\n      <td>0</td>\n      <td>1</td>\n      <td>1</td>\n      <td>...</td>\n      <td>169.011892</td>\n      <td>173.615749</td>\n      <td>85.007622</td>\n      <td>168.434500</td>\n      <td>28.118677</td>\n      <td>173.580225</td>\n      <td>-0.200837</td>\n      <td>0.079094</td>\n      <td>1565.074971</td>\n      <td>2</td>\n    </tr>\n  </tbody>\n</table>\n<p>100 rows × 105 columns</p>\n</div>"
     },
     "execution_count": 39,
     "metadata": {},
     "output_type": "execute_result"
    }
   ],
   "source": [
    "data = pd.read_excel(r'F:\\作业\\研究生\\数学建模\\mathematical-modeling-group\\models\\data\\train33.xlsx')\n",
    "data"
   ]
  },
  {
   "cell_type": "code",
   "execution_count": 40,
   "metadata": {},
   "outputs": [
    {
     "data": {
      "text/plain": "array([[  43.   ,    1.   ,    0.   , ...,    0.09 , 1225.45 ,    4.   ],\n       [  58.   ,    0.   ,    0.   , ...,    0.075, 1394.452,    0.   ],\n       [  78.   ,    0.   ,    0.   , ...,    0.099,  812.571,    5.   ],\n       ...,\n       [  82.   ,    0.   ,    0.   , ...,    0.104,  814.067,    5.   ],\n       [  53.   ,    0.   ,    0.   , ...,    0.124, 1172.577,    3.   ],\n       [  80.   ,    0.   ,    0.   , ...,    0.079, 1565.075,    2.   ]])"
     },
     "execution_count": 40,
     "metadata": {},
     "output_type": "execute_result"
    }
   ],
   "source": [
    "x_mat = np.array(data)\n",
    "x_mat"
   ]
  },
  {
   "cell_type": "code",
   "execution_count": 41,
   "metadata": {},
   "outputs": [],
   "source": [
    "## 定义函数求解关联度\n",
    "def gray_analysis(x,rho=0.5):\n",
    "    x_mean = x.mean(axis=0)\n",
    "    x = x/x_mean\n",
    "    X = x[:,1:]  #提取所有子序列\n",
    "    Y = x[:,0].reshape(X.shape[0],1)  #提取母序列\n",
    "    abs_x0_xi = np.abs(X-Y)\n",
    "    a = np.min(abs_x0_xi)\n",
    "    b = np.max(abs_x0_xi)\n",
    "    gamma_mat = (a+rho*b)/(abs_x0_xi+rho*b)\n",
    "    corre_degree = np.mean(gamma_mat,axis=0)\n",
    "    # print(gamma_mat)\n",
    "    print(\"子序列中各个指标的灰色关联度分别为：\",corre_degree)\n",
    "    return corre_degree"
   ]
  },
  {
   "cell_type": "code",
   "execution_count": 42,
   "metadata": {},
   "outputs": [
    {
     "name": "stdout",
     "output_type": "stream",
     "text": [
      "子序列中各个指标的灰色关联度分别为： [0.964 0.958 0.991 0.958 0.957 0.956 0.955 0.956 0.954 0.979 0.955 0.986\n",
      " 0.985 0.992 0.99  0.994 0.994 0.994 0.992 0.984 0.962 0.97  0.969 0.958\n",
      " 0.96  0.963 0.971 0.968 0.958 0.96  0.981 0.965 0.972 0.97  0.961 0.961\n",
      " 0.967 0.972 0.97  0.959 0.962 0.993 0.991 0.99  0.99  0.99  0.99  0.989\n",
      " 0.991 0.979 0.99  0.994 0.982 0.99  0.979 0.991 0.994 0.979 0.995 0.995\n",
      " 0.994 0.994 0.995 0.993 0.993 0.965 0.993 0.995 0.993 0.977 0.993 0.992\n",
      " 0.993 0.993 0.992 0.991 0.991 0.991 0.99  0.991 0.983 0.992 0.993 0.986\n",
      " 0.993 0.983 0.995 0.995 0.982 0.995 0.993 0.994 0.994 0.994 0.995 0.995\n",
      " 0.994 0.994 0.993 0.995 0.884 0.994 0.992 0.986]\n"
     ]
    }
   ],
   "source": [
    "a = gray_analysis(x_mat)"
   ]
  },
  {
   "cell_type": "code",
   "execution_count": 52,
   "outputs": [
    {
     "data": {
      "text/plain": "array([0.964, 0.958, 0.991, 0.958, 0.957, 0.956, 0.955, 0.956, 0.954,\n       0.979, 0.955, 0.986, 0.985, 0.992, 0.99 , 0.994, 0.994, 0.994,\n       0.992, 0.984, 0.962, 0.97 , 0.969, 0.958, 0.96 , 0.963, 0.971,\n       0.968, 0.958, 0.96 , 0.981, 0.965, 0.972, 0.97 , 0.961, 0.961,\n       0.967, 0.972, 0.97 , 0.959, 0.962, 0.993, 0.991, 0.99 , 0.99 ,\n       0.99 , 0.99 , 0.989, 0.991, 0.979, 0.99 , 0.994, 0.982, 0.99 ,\n       0.979, 0.991, 0.994, 0.979, 0.995, 0.995, 0.994, 0.994, 0.995,\n       0.993, 0.993, 0.965, 0.993, 0.995, 0.993, 0.977, 0.993, 0.992,\n       0.993, 0.993, 0.992, 0.991, 0.991, 0.991, 0.99 , 0.991, 0.983,\n       0.992, 0.993, 0.986, 0.993, 0.983, 0.995, 0.995, 0.982, 0.995,\n       0.993, 0.994, 0.994, 0.994, 0.995, 0.995, 0.994, 0.994, 0.993,\n       0.995, 0.884, 0.994, 0.992, 0.986])"
     },
     "execution_count": 52,
     "metadata": {},
     "output_type": "execute_result"
    }
   ],
   "source": [
    "a"
   ],
   "metadata": {
    "collapsed": false,
    "pycharm": {
     "name": "#%%\n"
    }
   }
  },
  {
   "cell_type": "code",
   "execution_count": 53,
   "outputs": [
    {
     "data": {
      "text/plain": "                                                     0         1\n0                                                   年龄  0.963820\n1                                                   性别  0.957526\n2                                            脑出血前mRS评分  0.990844\n3                                                高血压病史  0.957656\n4                                                 卒中病史  0.956519\n..                                                 ...       ...\n99   H_NCCT_original_firstorder_RobustMeanAbsoluteD...  0.994598\n100         H_NCCT_original_firstorder_RootMeanSquared  0.884170\n101                H_NCCT_original_firstorder_Skewness  0.994039\n102              H_NCCT_original_firstorder_Uniformity  0.991843\n103                H_NCCT_original_firstorder_Variance  0.985596\n\n[104 rows x 2 columns]",
      "text/html": "<div>\n<style scoped>\n    .dataframe tbody tr th:only-of-type {\n        vertical-align: middle;\n    }\n\n    .dataframe tbody tr th {\n        vertical-align: top;\n    }\n\n    .dataframe thead th {\n        text-align: right;\n    }\n</style>\n<table border=\"1\" class=\"dataframe\">\n  <thead>\n    <tr style=\"text-align: right;\">\n      <th></th>\n      <th>0</th>\n      <th>1</th>\n    </tr>\n  </thead>\n  <tbody>\n    <tr>\n      <th>0</th>\n      <td>年龄</td>\n      <td>0.963820</td>\n    </tr>\n    <tr>\n      <th>1</th>\n      <td>性别</td>\n      <td>0.957526</td>\n    </tr>\n    <tr>\n      <th>2</th>\n      <td>脑出血前mRS评分</td>\n      <td>0.990844</td>\n    </tr>\n    <tr>\n      <th>3</th>\n      <td>高血压病史</td>\n      <td>0.957656</td>\n    </tr>\n    <tr>\n      <th>4</th>\n      <td>卒中病史</td>\n      <td>0.956519</td>\n    </tr>\n    <tr>\n      <th>...</th>\n      <td>...</td>\n      <td>...</td>\n    </tr>\n    <tr>\n      <th>99</th>\n      <td>H_NCCT_original_firstorder_RobustMeanAbsoluteD...</td>\n      <td>0.994598</td>\n    </tr>\n    <tr>\n      <th>100</th>\n      <td>H_NCCT_original_firstorder_RootMeanSquared</td>\n      <td>0.884170</td>\n    </tr>\n    <tr>\n      <th>101</th>\n      <td>H_NCCT_original_firstorder_Skewness</td>\n      <td>0.994039</td>\n    </tr>\n    <tr>\n      <th>102</th>\n      <td>H_NCCT_original_firstorder_Uniformity</td>\n      <td>0.991843</td>\n    </tr>\n    <tr>\n      <th>103</th>\n      <td>H_NCCT_original_firstorder_Variance</td>\n      <td>0.985596</td>\n    </tr>\n  </tbody>\n</table>\n<p>104 rows × 2 columns</p>\n</div>"
     },
     "execution_count": 53,
     "metadata": {},
     "output_type": "execute_result"
    }
   ],
   "source": [
    "df = pd.DataFrame(data.columns[:-1])\n",
    "df['1'] = a\n",
    "df"
   ],
   "metadata": {
    "collapsed": false,
    "pycharm": {
     "name": "#%%\n"
    }
   }
  },
  {
   "cell_type": "code",
   "execution_count": 54,
   "outputs": [
    {
     "data": {
      "text/plain": "                                                    0         1\n58                    NCCT_original_firstorder_Energy  0.994704\n86                       H_original_shape_VoxelVolume  0.994634\n94   H_NCCT_original_firstorder_MeanAbsoluteDeviation  0.994611\n59                   NCCT_original_firstorder_Entropy  0.994609\n89                  H_NCCT_original_firstorder_Energy  0.994608\n..                                                ...       ...\n7                                                冠心病史  0.956470\n6                                                 房颤史  0.955441\n10                                      发病到首次影像检查时间间隔  0.955148\n8                                                 吸烟史  0.954215\n100        H_NCCT_original_firstorder_RootMeanSquared  0.884170\n\n[104 rows x 2 columns]",
      "text/html": "<div>\n<style scoped>\n    .dataframe tbody tr th:only-of-type {\n        vertical-align: middle;\n    }\n\n    .dataframe tbody tr th {\n        vertical-align: top;\n    }\n\n    .dataframe thead th {\n        text-align: right;\n    }\n</style>\n<table border=\"1\" class=\"dataframe\">\n  <thead>\n    <tr style=\"text-align: right;\">\n      <th></th>\n      <th>0</th>\n      <th>1</th>\n    </tr>\n  </thead>\n  <tbody>\n    <tr>\n      <th>58</th>\n      <td>NCCT_original_firstorder_Energy</td>\n      <td>0.994704</td>\n    </tr>\n    <tr>\n      <th>86</th>\n      <td>H_original_shape_VoxelVolume</td>\n      <td>0.994634</td>\n    </tr>\n    <tr>\n      <th>94</th>\n      <td>H_NCCT_original_firstorder_MeanAbsoluteDeviation</td>\n      <td>0.994611</td>\n    </tr>\n    <tr>\n      <th>59</th>\n      <td>NCCT_original_firstorder_Entropy</td>\n      <td>0.994609</td>\n    </tr>\n    <tr>\n      <th>89</th>\n      <td>H_NCCT_original_firstorder_Energy</td>\n      <td>0.994608</td>\n    </tr>\n    <tr>\n      <th>...</th>\n      <td>...</td>\n      <td>...</td>\n    </tr>\n    <tr>\n      <th>7</th>\n      <td>冠心病史</td>\n      <td>0.956470</td>\n    </tr>\n    <tr>\n      <th>6</th>\n      <td>房颤史</td>\n      <td>0.955441</td>\n    </tr>\n    <tr>\n      <th>10</th>\n      <td>发病到首次影像检查时间间隔</td>\n      <td>0.955148</td>\n    </tr>\n    <tr>\n      <th>8</th>\n      <td>吸烟史</td>\n      <td>0.954215</td>\n    </tr>\n    <tr>\n      <th>100</th>\n      <td>H_NCCT_original_firstorder_RootMeanSquared</td>\n      <td>0.884170</td>\n    </tr>\n  </tbody>\n</table>\n<p>104 rows × 2 columns</p>\n</div>"
     },
     "execution_count": 54,
     "metadata": {},
     "output_type": "execute_result"
    }
   ],
   "source": [
    "df_sorted = df.sort_values(by='1', ascending=False)\n",
    "df_sorted"
   ],
   "metadata": {
    "collapsed": false,
    "pycharm": {
     "name": "#%%\n"
    }
   }
  },
  {
   "cell_type": "code",
   "execution_count": 56,
   "outputs": [],
   "source": [
    "df_sorted.to_csv('grayscale_value.csv', index=False)"
   ],
   "metadata": {
    "collapsed": false,
    "pycharm": {
     "name": "#%%\n"
    }
   }
  },
  {
   "cell_type": "markdown",
   "metadata": {},
   "source": [
    "### 用于确定权重"
   ]
  },
  {
   "cell_type": "code",
   "execution_count": null,
   "outputs": [],
   "source": [
    "class Topsis:\n",
    "    def __init__(self,X,**typ):\n",
    "        # 所有待转换的类型\n",
    "        x_mat = X.copy()\n",
    "        ctype = ['cmin','cmedian','crange']\n",
    "        if typ:\n",
    "            # 提取待转换类型及对应的列为一个新字典\n",
    "            type_dic = dict([(t,typ[t]) for t in ctype if t in typ.keys()])\n",
    "            position = sum(type_dic.values(),[])\n",
    "\n",
    "            for col_wait_for_convert in position:\n",
    "                convert_type = [k for k, v in typ.items() if col_wait_for_convert in v][0]\n",
    "                current_index = typ[convert_type].index(col_wait_for_convert)\n",
    "                if convert_type == 'cmedian':\n",
    "                    x_mat.iloc[:,col_wait_for_convert] = self.positivization(x_mat[col_wait_for_convert], convert_type,typ['best_median'][current_index])\n",
    "                \n",
    "                elif convert_type == 'crange':\n",
    "                    x_mat.iloc[:,col_wait_for_convert] = self.positivization(x_mat[col_wait_for_convert], convert_type,typ['best_range'][current_index])\n",
    "                \n",
    "                else:\n",
    "                    x_mat.iloc[:,col_wait_for_convert] = self.positivization(x_mat[col_wait_for_convert],convert_type)\n",
    "        else:\n",
    "            print('无需正向化')\n",
    "            \n",
    "        self.x_mat = x_mat\n",
    "            \n",
    "    def positivization(self, col ,t, best=None):\n",
    "        if t == 'cmin':\n",
    "            posit = col.max() - col\n",
    "            return posit\n",
    "        elif t == 'cmedian':\n",
    "            m = max(abs(col - best))\n",
    "            posit = 1 - abs(col - best) / m\n",
    "            return posit\n",
    "        else:\n",
    "            posit = col\n",
    "            t == 'crange'\n",
    "            a,b = best\n",
    "            m = max(np.append(a-min(col),max(col)-b))\n",
    "            x_row = col.shape[0]\n",
    "            for i in range(x_row):\n",
    "                if col[i] < a:\n",
    "                    posit[i] = 1 - (a-col[i]) / m\n",
    "                elif col[i] > b:\n",
    "                    posit[i] = 1 - (col[i]-b) / m\n",
    "                else:\n",
    "                    posit[i] = 1\n",
    "            return posit"
   ],
   "metadata": {
    "collapsed": false,
    "pycharm": {
     "name": "#%%\n"
    }
   }
  },
  {
   "cell_type": "code",
   "execution_count": 45,
   "metadata": {},
   "outputs": [
    {
     "data": {
      "text/plain": "       0     1     2      3\n7   9.30  6.81  27.0  31.57\n10  7.93  7.53   9.0   6.52\n13  2.01  5.55  47.0  26.31\n18  3.54  7.27  54.0   3.16\n2   9.11  6.31  46.0   8.91",
      "text/html": "<div>\n<style scoped>\n    .dataframe tbody tr th:only-of-type {\n        vertical-align: middle;\n    }\n\n    .dataframe tbody tr th {\n        vertical-align: top;\n    }\n\n    .dataframe thead th {\n        text-align: right;\n    }\n</style>\n<table border=\"1\" class=\"dataframe\">\n  <thead>\n    <tr style=\"text-align: right;\">\n      <th></th>\n      <th>0</th>\n      <th>1</th>\n      <th>2</th>\n      <th>3</th>\n    </tr>\n  </thead>\n  <tbody>\n    <tr>\n      <th>7</th>\n      <td>9.30</td>\n      <td>6.81</td>\n      <td>27.0</td>\n      <td>31.57</td>\n    </tr>\n    <tr>\n      <th>10</th>\n      <td>7.93</td>\n      <td>7.53</td>\n      <td>9.0</td>\n      <td>6.52</td>\n    </tr>\n    <tr>\n      <th>13</th>\n      <td>2.01</td>\n      <td>5.55</td>\n      <td>47.0</td>\n      <td>26.31</td>\n    </tr>\n    <tr>\n      <th>18</th>\n      <td>3.54</td>\n      <td>7.27</td>\n      <td>54.0</td>\n      <td>3.16</td>\n    </tr>\n    <tr>\n      <th>2</th>\n      <td>9.11</td>\n      <td>6.31</td>\n      <td>46.0</td>\n      <td>8.91</td>\n    </tr>\n  </tbody>\n</table>\n</div>"
     },
     "execution_count": 45,
     "metadata": {},
     "output_type": "execute_result"
    }
   ],
   "source": [
    "river_data = pd.read_csv('river.csv',header=None)\n",
    "river_data.sample(5)"
   ]
  },
  {
   "cell_type": "code",
   "execution_count": 51,
   "metadata": {},
   "outputs": [
    {
     "ename": "KeyError",
     "evalue": "2",
     "output_type": "error",
     "traceback": [
      "\u001B[1;31m---------------------------------------------------------------------------\u001B[0m",
      "\u001B[1;31mKeyError\u001B[0m                                  Traceback (most recent call last)",
      "File \u001B[1;32mD:\\Softwares\\Anaconda\\Anaconda3\\envs\\py39_LowPyT\\lib\\site-packages\\pandas\\core\\indexes\\base.py:3653\u001B[0m, in \u001B[0;36mIndex.get_loc\u001B[1;34m(self, key)\u001B[0m\n\u001B[0;32m   3652\u001B[0m \u001B[38;5;28;01mtry\u001B[39;00m:\n\u001B[1;32m-> 3653\u001B[0m     \u001B[38;5;28;01mreturn\u001B[39;00m \u001B[38;5;28;43mself\u001B[39;49m\u001B[38;5;241;43m.\u001B[39;49m\u001B[43m_engine\u001B[49m\u001B[38;5;241;43m.\u001B[39;49m\u001B[43mget_loc\u001B[49m\u001B[43m(\u001B[49m\u001B[43mcasted_key\u001B[49m\u001B[43m)\u001B[49m\n\u001B[0;32m   3654\u001B[0m \u001B[38;5;28;01mexcept\u001B[39;00m \u001B[38;5;167;01mKeyError\u001B[39;00m \u001B[38;5;28;01mas\u001B[39;00m err:\n",
      "File \u001B[1;32mD:\\Softwares\\Anaconda\\Anaconda3\\envs\\py39_LowPyT\\lib\\site-packages\\pandas\\_libs\\index.pyx:147\u001B[0m, in \u001B[0;36mpandas._libs.index.IndexEngine.get_loc\u001B[1;34m()\u001B[0m\n",
      "File \u001B[1;32mD:\\Softwares\\Anaconda\\Anaconda3\\envs\\py39_LowPyT\\lib\\site-packages\\pandas\\_libs\\index.pyx:176\u001B[0m, in \u001B[0;36mpandas._libs.index.IndexEngine.get_loc\u001B[1;34m()\u001B[0m\n",
      "File \u001B[1;32mpandas\\_libs\\hashtable_class_helper.pxi:7080\u001B[0m, in \u001B[0;36mpandas._libs.hashtable.PyObjectHashTable.get_item\u001B[1;34m()\u001B[0m\n",
      "File \u001B[1;32mpandas\\_libs\\hashtable_class_helper.pxi:7088\u001B[0m, in \u001B[0;36mpandas._libs.hashtable.PyObjectHashTable.get_item\u001B[1;34m()\u001B[0m\n",
      "\u001B[1;31mKeyError\u001B[0m: 2",
      "\nThe above exception was the direct cause of the following exception:\n",
      "\u001B[1;31mKeyError\u001B[0m                                  Traceback (most recent call last)",
      "Cell \u001B[1;32mIn[51], line 1\u001B[0m\n\u001B[1;32m----> 1\u001B[0m tp \u001B[38;5;241m=\u001B[39m \u001B[43mTopsis\u001B[49m\u001B[43m(\u001B[49m\u001B[43mX\u001B[49m\u001B[38;5;241;43m=\u001B[39;49m\u001B[43mdata\u001B[49m\u001B[43m,\u001B[49m\u001B[43mcmin\u001B[49m\u001B[38;5;241;43m=\u001B[39;49m\u001B[43m[\u001B[49m\u001B[38;5;241;43m2\u001B[39;49m\u001B[43m]\u001B[49m\u001B[43m,\u001B[49m\u001B[43mcmedian\u001B[49m\u001B[38;5;241;43m=\u001B[39;49m\u001B[43m[\u001B[49m\u001B[38;5;241;43m1\u001B[39;49m\u001B[43m]\u001B[49m\u001B[43m,\u001B[49m\u001B[43mbest_median\u001B[49m\u001B[38;5;241;43m=\u001B[39;49m\u001B[43m[\u001B[49m\u001B[38;5;241;43m7\u001B[39;49m\u001B[43m]\u001B[49m\u001B[43m,\u001B[49m\u001B[43mcrange\u001B[49m\u001B[38;5;241;43m=\u001B[39;49m\u001B[43m[\u001B[49m\u001B[38;5;241;43m3\u001B[39;49m\u001B[43m]\u001B[49m\u001B[43m,\u001B[49m\u001B[43mbest_range\u001B[49m\u001B[38;5;241;43m=\u001B[39;49m\u001B[43m[\u001B[49m\u001B[43m[\u001B[49m\u001B[38;5;241;43m10\u001B[39;49m\u001B[43m,\u001B[49m\u001B[38;5;241;43m20\u001B[39;49m\u001B[43m]\u001B[49m\u001B[43m]\u001B[49m\u001B[43m)\u001B[49m\n\u001B[0;32m      2\u001B[0m tp\n",
      "Cell \u001B[1;32mIn[44], line 21\u001B[0m, in \u001B[0;36mTopsis.__init__\u001B[1;34m(self, X, **typ)\u001B[0m\n\u001B[0;32m     18\u001B[0m             x_mat\u001B[38;5;241m.\u001B[39miloc[:,col_wait_for_convert] \u001B[38;5;241m=\u001B[39m \u001B[38;5;28mself\u001B[39m\u001B[38;5;241m.\u001B[39mpositivization(x_mat[col_wait_for_convert], convert_type,typ[\u001B[38;5;124m'\u001B[39m\u001B[38;5;124mbest_range\u001B[39m\u001B[38;5;124m'\u001B[39m][current_index])\n\u001B[0;32m     20\u001B[0m         \u001B[38;5;28;01melse\u001B[39;00m:\n\u001B[1;32m---> 21\u001B[0m             x_mat\u001B[38;5;241m.\u001B[39miloc[:,col_wait_for_convert] \u001B[38;5;241m=\u001B[39m \u001B[38;5;28mself\u001B[39m\u001B[38;5;241m.\u001B[39mpositivization(\u001B[43mx_mat\u001B[49m\u001B[43m[\u001B[49m\u001B[43mcol_wait_for_convert\u001B[49m\u001B[43m]\u001B[49m,convert_type)\n\u001B[0;32m     22\u001B[0m \u001B[38;5;28;01melse\u001B[39;00m:\n\u001B[0;32m     23\u001B[0m     \u001B[38;5;28mprint\u001B[39m(\u001B[38;5;124m'\u001B[39m\u001B[38;5;124m无需正向化\u001B[39m\u001B[38;5;124m'\u001B[39m)\n",
      "File \u001B[1;32mD:\\Softwares\\Anaconda\\Anaconda3\\envs\\py39_LowPyT\\lib\\site-packages\\pandas\\core\\frame.py:3761\u001B[0m, in \u001B[0;36mDataFrame.__getitem__\u001B[1;34m(self, key)\u001B[0m\n\u001B[0;32m   3759\u001B[0m \u001B[38;5;28;01mif\u001B[39;00m \u001B[38;5;28mself\u001B[39m\u001B[38;5;241m.\u001B[39mcolumns\u001B[38;5;241m.\u001B[39mnlevels \u001B[38;5;241m>\u001B[39m \u001B[38;5;241m1\u001B[39m:\n\u001B[0;32m   3760\u001B[0m     \u001B[38;5;28;01mreturn\u001B[39;00m \u001B[38;5;28mself\u001B[39m\u001B[38;5;241m.\u001B[39m_getitem_multilevel(key)\n\u001B[1;32m-> 3761\u001B[0m indexer \u001B[38;5;241m=\u001B[39m \u001B[38;5;28;43mself\u001B[39;49m\u001B[38;5;241;43m.\u001B[39;49m\u001B[43mcolumns\u001B[49m\u001B[38;5;241;43m.\u001B[39;49m\u001B[43mget_loc\u001B[49m\u001B[43m(\u001B[49m\u001B[43mkey\u001B[49m\u001B[43m)\u001B[49m\n\u001B[0;32m   3762\u001B[0m \u001B[38;5;28;01mif\u001B[39;00m is_integer(indexer):\n\u001B[0;32m   3763\u001B[0m     indexer \u001B[38;5;241m=\u001B[39m [indexer]\n",
      "File \u001B[1;32mD:\\Softwares\\Anaconda\\Anaconda3\\envs\\py39_LowPyT\\lib\\site-packages\\pandas\\core\\indexes\\base.py:3655\u001B[0m, in \u001B[0;36mIndex.get_loc\u001B[1;34m(self, key)\u001B[0m\n\u001B[0;32m   3653\u001B[0m     \u001B[38;5;28;01mreturn\u001B[39;00m \u001B[38;5;28mself\u001B[39m\u001B[38;5;241m.\u001B[39m_engine\u001B[38;5;241m.\u001B[39mget_loc(casted_key)\n\u001B[0;32m   3654\u001B[0m \u001B[38;5;28;01mexcept\u001B[39;00m \u001B[38;5;167;01mKeyError\u001B[39;00m \u001B[38;5;28;01mas\u001B[39;00m err:\n\u001B[1;32m-> 3655\u001B[0m     \u001B[38;5;28;01mraise\u001B[39;00m \u001B[38;5;167;01mKeyError\u001B[39;00m(key) \u001B[38;5;28;01mfrom\u001B[39;00m \u001B[38;5;21;01merr\u001B[39;00m\n\u001B[0;32m   3656\u001B[0m \u001B[38;5;28;01mexcept\u001B[39;00m \u001B[38;5;167;01mTypeError\u001B[39;00m:\n\u001B[0;32m   3657\u001B[0m     \u001B[38;5;66;03m# If we have a listlike key, _check_indexing_error will raise\u001B[39;00m\n\u001B[0;32m   3658\u001B[0m     \u001B[38;5;66;03m#  InvalidIndexError. Otherwise we fall through and re-raise\u001B[39;00m\n\u001B[0;32m   3659\u001B[0m     \u001B[38;5;66;03m#  the TypeError.\u001B[39;00m\n\u001B[0;32m   3660\u001B[0m     \u001B[38;5;28mself\u001B[39m\u001B[38;5;241m.\u001B[39m_check_indexing_error(key)\n",
      "\u001B[1;31mKeyError\u001B[0m: 2"
     ]
    }
   ],
   "source": [
    "tp = Topsis(X=data,cmin=[2],cmedian=[1],best_median=[7],crange=[3],best_range=[[10,20]])\n",
    "tp"
   ]
  },
  {
   "cell_type": "code",
   "execution_count": 47,
   "metadata": {},
   "outputs": [],
   "source": [
    "def score(processed_x, raw_data):\n",
    "    after_processed = processed_x\n",
    "    temp_mat = after_processed.copy()\n",
    "    temp_mat = temp_mat / temp_mat.mean(axis=0)\n",
    "    main_col = temp_mat.max(axis=1)\n",
    "    temp_mat.insert(0,column='母序列',value=main_col)\n",
    "    corr = gray_analysis(np.array(temp_mat))\n",
    "    col_weight = corr / corr.sum()\n",
    "    object_score = (raw_data *  col_weight).sum(axis=1)\n",
    "    standar_score = object_score / sum(object_score)\n",
    "    return standar_score"
   ]
  },
  {
   "cell_type": "code",
   "execution_count": 50,
   "metadata": {},
   "outputs": [
    {
     "ename": "AttributeError",
     "evalue": "'numpy.ndarray' object has no attribute 'insert'",
     "output_type": "error",
     "traceback": [
      "\u001B[1;31m---------------------------------------------------------------------------\u001B[0m",
      "\u001B[1;31mAttributeError\u001B[0m                            Traceback (most recent call last)",
      "Cell \u001B[1;32mIn[50], line 1\u001B[0m\n\u001B[1;32m----> 1\u001B[0m \u001B[43mscore\u001B[49m\u001B[43m(\u001B[49m\u001B[43mx_mat\u001B[49m\u001B[43m,\u001B[49m\u001B[43m \u001B[49m\u001B[43mdata\u001B[49m\u001B[43m)\u001B[49m\n",
      "Cell \u001B[1;32mIn[47], line 6\u001B[0m, in \u001B[0;36mscore\u001B[1;34m(processed_x, raw_data)\u001B[0m\n\u001B[0;32m      4\u001B[0m temp_mat \u001B[38;5;241m=\u001B[39m temp_mat \u001B[38;5;241m/\u001B[39m temp_mat\u001B[38;5;241m.\u001B[39mmean(axis\u001B[38;5;241m=\u001B[39m\u001B[38;5;241m0\u001B[39m)\n\u001B[0;32m      5\u001B[0m main_col \u001B[38;5;241m=\u001B[39m temp_mat\u001B[38;5;241m.\u001B[39mmax(axis\u001B[38;5;241m=\u001B[39m\u001B[38;5;241m1\u001B[39m)\n\u001B[1;32m----> 6\u001B[0m \u001B[43mtemp_mat\u001B[49m\u001B[38;5;241;43m.\u001B[39;49m\u001B[43minsert\u001B[49m(\u001B[38;5;241m0\u001B[39m,column\u001B[38;5;241m=\u001B[39m\u001B[38;5;124m'\u001B[39m\u001B[38;5;124m母序列\u001B[39m\u001B[38;5;124m'\u001B[39m,value\u001B[38;5;241m=\u001B[39mmain_col)\n\u001B[0;32m      7\u001B[0m corr \u001B[38;5;241m=\u001B[39m gray_analysis(np\u001B[38;5;241m.\u001B[39marray(temp_mat))\n\u001B[0;32m      8\u001B[0m col_weight \u001B[38;5;241m=\u001B[39m corr \u001B[38;5;241m/\u001B[39m corr\u001B[38;5;241m.\u001B[39msum()\n",
      "\u001B[1;31mAttributeError\u001B[0m: 'numpy.ndarray' object has no attribute 'insert'"
     ]
    }
   ],
   "source": [
    "score(x_mat, data)"
   ]
  },
  {
   "cell_type": "code",
   "execution_count": null,
   "metadata": {},
   "outputs": [],
   "source": []
  }
 ],
 "metadata": {
  "kernelspec": {
   "display_name": "Python 3",
   "language": "python",
   "name": "python3"
  },
  "language_info": {
   "codemirror_mode": {
    "name": "ipython",
    "version": 3
   },
   "file_extension": ".py",
   "mimetype": "text/x-python",
   "name": "python",
   "nbconvert_exporter": "python",
   "pygments_lexer": "ipython3",
   "version": "3.7.6"
  },
  "varInspector": {
   "cols": {
    "lenName": 16,
    "lenType": 16,
    "lenVar": 40
   },
   "kernels_config": {
    "python": {
     "delete_cmd_postfix": "",
     "delete_cmd_prefix": "del ",
     "library": "var_list.py",
     "varRefreshCmd": "print(var_dic_list())"
    },
    "r": {
     "delete_cmd_postfix": ") ",
     "delete_cmd_prefix": "rm(",
     "library": "var_list.r",
     "varRefreshCmd": "cat(var_dic_list()) "
    }
   },
   "types_to_exclude": [
    "module",
    "function",
    "builtin_function_or_method",
    "instance",
    "_Feature"
   ],
   "window_display": false
  }
 },
 "nbformat": 4,
 "nbformat_minor": 4
}